{
  "nbformat": 4,
  "nbformat_minor": 0,
  "metadata": {
    "colab": {
      "provenance": [],
      "gpuType": "T4",
      "include_colab_link": true
    },
    "kernelspec": {
      "name": "python3",
      "display_name": "Python 3"
    },
    "accelerator": "GPU"
  },
  "cells": [
    {
      "cell_type": "markdown",
      "metadata": {
        "id": "view-in-github",
        "colab_type": "text"
      },
      "source": [
        "<a href=\"https://colab.research.google.com/github/persisbb/expregML/blob/main/Correct_ExpressionRecognition_Training.ipynb\" target=\"_parent\"><img src=\"https://colab.research.google.com/assets/colab-badge.svg\" alt=\"Open In Colab\"/></a>"
      ]
    },
    {
      "cell_type": "markdown",
      "metadata": {
        "id": "_cVszeGY6PZy"
      },
      "source": [
        "Lesson 4"
      ]
    },
    {
      "cell_type": "code",
      "metadata": {
        "colab": {
          "base_uri": "https://localhost:8080/"
        },
        "id": "8_6K1O3-NO5J",
        "outputId": "e9631e65-b3d4-4c43-ba48-2c63532c0f92"
      },
      "source": [
        "!wget https://www.dropbox.com/s/si11cws2pyho1bp/archive.zip"
      ],
      "execution_count": 1,
      "outputs": [
        {
          "output_type": "stream",
          "name": "stdout",
          "text": [
            "--2023-06-21 07:41:27--  https://www.dropbox.com/s/si11cws2pyho1bp/archive.zip\n",
            "Resolving www.dropbox.com (www.dropbox.com)... 162.125.69.18, 2620:100:6031:18::a27d:5112\n",
            "Connecting to www.dropbox.com (www.dropbox.com)|162.125.69.18|:443... connected.\n",
            "HTTP request sent, awaiting response... 302 Found\n",
            "Location: /s/raw/si11cws2pyho1bp/archive.zip [following]\n",
            "--2023-06-21 07:41:28--  https://www.dropbox.com/s/raw/si11cws2pyho1bp/archive.zip\n",
            "Reusing existing connection to www.dropbox.com:443.\n",
            "HTTP request sent, awaiting response... 302 Found\n",
            "Location: https://uc92cc5109be74949997a293b911.dl.dropboxusercontent.com/cd/0/inline/B-bDOBvs9H_tjFS3-OaZgixJCiXsZo6QKqXbM8bPfO89ezxqh7gAvf0U5GXbnCGxq91uTQ7cM1K_vdpm1bx1JKVv1KBQE5ANCWNzus6x4jfS91gU_MkRgJqaDL26SxKzM01qVfEX06k1cDthX2qrI9ueV1bz4BxDBzKLvLLe60F_2A/file# [following]\n",
            "--2023-06-21 07:41:29--  https://uc92cc5109be74949997a293b911.dl.dropboxusercontent.com/cd/0/inline/B-bDOBvs9H_tjFS3-OaZgixJCiXsZo6QKqXbM8bPfO89ezxqh7gAvf0U5GXbnCGxq91uTQ7cM1K_vdpm1bx1JKVv1KBQE5ANCWNzus6x4jfS91gU_MkRgJqaDL26SxKzM01qVfEX06k1cDthX2qrI9ueV1bz4BxDBzKLvLLe60F_2A/file\n",
            "Resolving uc92cc5109be74949997a293b911.dl.dropboxusercontent.com (uc92cc5109be74949997a293b911.dl.dropboxusercontent.com)... 162.125.80.15, 2620:100:6031:15::a27d:510f\n",
            "Connecting to uc92cc5109be74949997a293b911.dl.dropboxusercontent.com (uc92cc5109be74949997a293b911.dl.dropboxusercontent.com)|162.125.80.15|:443... connected.\n",
            "HTTP request sent, awaiting response... 302 Found\n",
            "Location: /cd/0/inline2/B-aAJS0vmnI9ektKL-Qe97mNo-29Kw06emzAdDeycnVCnfi3sjNO_bs7KxYk3EAm_9aKm7kmjnRbPnXXkfwVhdtm6i2_NUQ4GtG2Uwe8JhJjEonDEzMtfCV-uQr1aAE76qLKtVfcGQVKQ-9LSCIM28PZMuHjCTfUhItYMkbaWFJ8jYdDRCYeWIY8oRbcvFXNSoj5soOyGeCjzNzCRPCOY6XFe9mi1vMnrdqz71GzQptckBUagOn-HYD5OdxldHpfDILLsd8wdGZ9nq8JyNbatjyJwwxuZafMAKmeBUnfdBx0gBiN5KleD1-YieYR1ZrdJRjZmu8SvKcKDndG0OCvMNc8IHAZOlZkqhq37-sBgqXlxVpLRup6GdEWRyRZeVPBq_NIShRq-PdmgHsb4DGkAiBLHFojRmZYFz-wAln2Qt8Sjw/file [following]\n",
            "--2023-06-21 07:41:30--  https://uc92cc5109be74949997a293b911.dl.dropboxusercontent.com/cd/0/inline2/B-aAJS0vmnI9ektKL-Qe97mNo-29Kw06emzAdDeycnVCnfi3sjNO_bs7KxYk3EAm_9aKm7kmjnRbPnXXkfwVhdtm6i2_NUQ4GtG2Uwe8JhJjEonDEzMtfCV-uQr1aAE76qLKtVfcGQVKQ-9LSCIM28PZMuHjCTfUhItYMkbaWFJ8jYdDRCYeWIY8oRbcvFXNSoj5soOyGeCjzNzCRPCOY6XFe9mi1vMnrdqz71GzQptckBUagOn-HYD5OdxldHpfDILLsd8wdGZ9nq8JyNbatjyJwwxuZafMAKmeBUnfdBx0gBiN5KleD1-YieYR1ZrdJRjZmu8SvKcKDndG0OCvMNc8IHAZOlZkqhq37-sBgqXlxVpLRup6GdEWRyRZeVPBq_NIShRq-PdmgHsb4DGkAiBLHFojRmZYFz-wAln2Qt8Sjw/file\n",
            "Reusing existing connection to uc92cc5109be74949997a293b911.dl.dropboxusercontent.com:443.\n",
            "HTTP request sent, awaiting response... 200 OK\n",
            "Length: 63252113 (60M) [application/zip]\n",
            "Saving to: ‘archive.zip’\n",
            "\n",
            "archive.zip         100%[===================>]  60.32M  22.6MB/s    in 2.7s    \n",
            "\n",
            "2023-06-21 07:41:33 (22.6 MB/s) - ‘archive.zip’ saved [63252113/63252113]\n",
            "\n"
          ]
        }
      ]
    },
    {
      "cell_type": "code",
      "metadata": {
        "id": "BQT_DQsTPDzB"
      },
      "source": [
        "!unzip -q \"/content/archive.zip\""
      ],
      "execution_count": 2,
      "outputs": []
    },
    {
      "cell_type": "code",
      "metadata": {
        "id": "bbucsZPQhcps"
      },
      "source": [
        "# Imports required for this project\n",
        "import tensorflow as tf\n",
        "import numpy as np\n",
        "import matplotlib.pyplot as plt\n",
        "from pathlib import Path\n",
        "\n",
        "tf.random.set_seed(4)"
      ],
      "execution_count": 3,
      "outputs": []
    },
    {
      "cell_type": "code",
      "metadata": {
        "id": "2USniwjMjJlq"
      },
      "source": [
        "# Creating the Pathlib PATH objects\n",
        "train_path = Path(\"/content/train\")\n",
        "test_path = Path(\"/content/test\")"
      ],
      "execution_count": 4,
      "outputs": []
    },
    {
      "cell_type": "code",
      "metadata": {
        "id": "CY8kbQwokLyR",
        "colab": {
          "base_uri": "https://localhost:8080/"
        },
        "outputId": "ad9e4beb-0f86-4e1f-8012-5b0863cbfaf8"
      },
      "source": [
        "# Getting Image paths\n",
        "train_image_paths = list(train_path.glob(\"*/*\"))\n",
        "train_image_paths = list(map(lambda x : str(x) , train_image_paths))\n",
        "\n",
        "train_image_paths[:10]"
      ],
      "execution_count": 5,
      "outputs": [
        {
          "output_type": "execute_result",
          "data": {
            "text/plain": [
              "['/content/train/disgust/Training_8536264.jpg',\n",
              " '/content/train/disgust/Training_69604773.jpg',\n",
              " '/content/train/disgust/Training_93689671.jpg',\n",
              " '/content/train/disgust/Training_16391066.jpg',\n",
              " '/content/train/disgust/Training_84519169.jpg',\n",
              " '/content/train/disgust/Training_84557608.jpg',\n",
              " '/content/train/disgust/Training_75853240.jpg',\n",
              " '/content/train/disgust/Training_30792119.jpg',\n",
              " '/content/train/disgust/Training_92872071.jpg',\n",
              " '/content/train/disgust/Training_8004276.jpg']"
            ]
          },
          "metadata": {},
          "execution_count": 5
        }
      ]
    },
    {
      "cell_type": "code",
      "metadata": {
        "id": "nHGWNSp8kcLr",
        "colab": {
          "base_uri": "https://localhost:8080/"
        },
        "outputId": "6336ed9d-f31b-4dff-f882-742fa02a111c"
      },
      "source": [
        "# Getting their respective labels\n",
        "\n",
        "def get_label(image_path):\n",
        "    return image_path.split(\"/\")[-2]\n",
        "\n",
        "train_image_labels = list(map(lambda x : get_label(x) , train_image_paths))\n",
        "train_image_labels[:10]"
      ],
      "execution_count": 6,
      "outputs": [
        {
          "output_type": "execute_result",
          "data": {
            "text/plain": [
              "['disgust',\n",
              " 'disgust',\n",
              " 'disgust',\n",
              " 'disgust',\n",
              " 'disgust',\n",
              " 'disgust',\n",
              " 'disgust',\n",
              " 'disgust',\n",
              " 'disgust',\n",
              " 'disgust']"
            ]
          },
          "metadata": {},
          "execution_count": 6
        }
      ]
    },
    {
      "cell_type": "code",
      "metadata": {
        "id": "DtBFz9NfknrJ",
        "colab": {
          "base_uri": "https://localhost:8080/"
        },
        "outputId": "f0f77363-6a87-4551-b257-126b9f585d31"
      },
      "source": [
        "from sklearn.preprocessing import LabelEncoder\n",
        "\n",
        "Le = LabelEncoder()\n",
        "train_image_labels = Le.fit_transform(train_image_labels)\n",
        "\n",
        "train_image_labels[:10]"
      ],
      "execution_count": 7,
      "outputs": [
        {
          "output_type": "execute_result",
          "data": {
            "text/plain": [
              "array([1, 1, 1, 1, 1, 1, 1, 1, 1, 1])"
            ]
          },
          "metadata": {},
          "execution_count": 7
        }
      ]
    },
    {
      "cell_type": "code",
      "metadata": {
        "id": "HS6UTHa7T-Et",
        "colab": {
          "base_uri": "https://localhost:8080/"
        },
        "outputId": "ac360e7a-3bb9-4daa-b50f-f5a66ee244b0"
      },
      "source": [
        "train_image_labels = tf.keras.utils.to_categorical(train_image_labels)\n",
        "\n",
        "train_image_labels[:10]"
      ],
      "execution_count": 8,
      "outputs": [
        {
          "output_type": "execute_result",
          "data": {
            "text/plain": [
              "array([[0., 1., 0., 0., 0., 0., 0.],\n",
              "       [0., 1., 0., 0., 0., 0., 0.],\n",
              "       [0., 1., 0., 0., 0., 0., 0.],\n",
              "       [0., 1., 0., 0., 0., 0., 0.],\n",
              "       [0., 1., 0., 0., 0., 0., 0.],\n",
              "       [0., 1., 0., 0., 0., 0., 0.],\n",
              "       [0., 1., 0., 0., 0., 0., 0.],\n",
              "       [0., 1., 0., 0., 0., 0., 0.],\n",
              "       [0., 1., 0., 0., 0., 0., 0.],\n",
              "       [0., 1., 0., 0., 0., 0., 0.]], dtype=float32)"
            ]
          },
          "metadata": {},
          "execution_count": 8
        }
      ]
    },
    {
      "cell_type": "code",
      "metadata": {
        "id": "Ji1Weit-lVDU"
      },
      "source": [
        "from sklearn.model_selection import train_test_split\n",
        "\n",
        "Train_paths , Val_paths , Train_labels , Val_labels = train_test_split(train_image_paths , train_image_labels , test_size = 0.25)"
      ],
      "execution_count": 9,
      "outputs": []
    },
    {
      "cell_type": "code",
      "metadata": {
        "id": "VTaelfZtZ27-",
        "colab": {
          "base_uri": "https://localhost:8080/"
        },
        "outputId": "f63ef55a-7505-45a3-9f36-ccd91715187b"
      },
      "source": [
        "# Compute class weights\n",
        "\n",
        "classTotals = Train_labels.sum(axis=0)\n",
        "classWeight = classTotals.max() / classTotals\n",
        "\n",
        "class_weight = {e : weight for e , weight in enumerate(classWeight)}\n",
        "print(class_weight)"
      ],
      "execution_count": 10,
      "outputs": [
        {
          "output_type": "stream",
          "name": "stdout",
          "text": [
            "{0: 1.7573385, 1: 15.940828, 2: 1.7700394, 3: 1.0, 4: 1.4737418, 5: 1.471729, 6: 2.2657695}\n"
          ]
        }
      ]
    },
    {
      "cell_type": "markdown",
      "metadata": {
        "id": "wHd7EARA6NSl"
      },
      "source": [
        "Lesson 5"
      ]
    },
    {
      "cell_type": "code",
      "metadata": {
        "id": "WayfB4DUlwwP"
      },
      "source": [
        "# Function used for Transformation\n",
        "\n",
        "def load(image , label):\n",
        "    image = tf.io.read_file(image)\n",
        "    image = tf.io.decode_jpeg(image , channels = 3)\n",
        "    return image , label"
      ],
      "execution_count": 11,
      "outputs": []
    },
    {
      "cell_type": "code",
      "metadata": {
        "id": "4oJwdwPnR2iI"
      },
      "source": [
        "# Define IMAGE SIZE and BATCH SIZE\n",
        "IMG_SIZE = 96\n",
        "BATCH_SIZE = 32\n",
        "\n",
        "# Basic Transformation\n",
        "resize = tf.keras.Sequential([\n",
        "    tf.keras.layers.experimental.preprocessing.Resizing(IMG_SIZE, IMG_SIZE)\n",
        "])\n",
        "\n",
        "# Data Augmentation\n",
        "data_augmentation = tf.keras.Sequential([\n",
        "    tf.keras.layers.experimental.preprocessing.RandomFlip(\"horizontal\"),\n",
        "    tf.keras.layers.experimental.preprocessing.RandomRotation(0.1),\n",
        "    tf.keras.layers.experimental.preprocessing.RandomZoom(height_factor = (-0.1, -0.05))\n",
        "])"
      ],
      "execution_count": 12,
      "outputs": []
    },
    {
      "cell_type": "code",
      "metadata": {
        "id": "rR4A_FLKl9Cp"
      },
      "source": [
        "# Function used to Create a Tensorflow Data Object\n",
        "AUTOTUNE = tf.data.experimental.AUTOTUNE\n",
        "def get_dataset(paths , labels , train = True):\n",
        "    image_paths = tf.convert_to_tensor(paths)\n",
        "    labels = tf.convert_to_tensor(labels)\n",
        "\n",
        "    image_dataset = tf.data.Dataset.from_tensor_slices(image_paths)\n",
        "    label_dataset = tf.data.Dataset.from_tensor_slices(labels)\n",
        "\n",
        "    dataset = tf.data.Dataset.zip((image_dataset , label_dataset))\n",
        "\n",
        "    dataset = dataset.map(lambda image , label : load(image , label))\n",
        "    dataset = dataset.map(lambda image, label: (resize(image), label) , num_parallel_calls=AUTOTUNE)\n",
        "    dataset = dataset.shuffle(1000)\n",
        "    dataset = dataset.batch(BATCH_SIZE)\n",
        "\n",
        "    if train:\n",
        "        dataset = dataset.map(lambda image, label: (data_augmentation(image), label) , num_parallel_calls=AUTOTUNE)\n",
        "\n",
        "    dataset = dataset.repeat()\n",
        "    return dataset"
      ],
      "execution_count": 13,
      "outputs": []
    },
    {
      "cell_type": "code",
      "metadata": {
        "id": "eXbkOIjjoZo4",
        "colab": {
          "base_uri": "https://localhost:8080/"
        },
        "outputId": "e914ab97-4721-4b27-e94c-d689ac529ed4"
      },
      "source": [
        "# Creating Train Dataset object and Verifying it\n",
        "%time train_dataset = get_dataset(Train_paths , Train_labels)\n",
        "\n",
        "image , label = next(iter(train_dataset))\n",
        "print(image.shape)\n",
        "print(label.shape)"
      ],
      "execution_count": 14,
      "outputs": [
        {
          "output_type": "stream",
          "name": "stdout",
          "text": [
            "CPU times: user 607 ms, sys: 12.8 ms, total: 620 ms\n",
            "Wall time: 709 ms\n",
            "(32, 96, 96, 3)\n",
            "(32, 7)\n"
          ]
        }
      ]
    },
    {
      "cell_type": "code",
      "metadata": {
        "id": "qmEunSLQrmoy",
        "colab": {
          "base_uri": "https://localhost:8080/",
          "height": 468
        },
        "outputId": "9fd0ca5e-aa6b-4213-978e-a631f7813686"
      },
      "source": [
        "# View a sample Training Image\n",
        "print(Le.inverse_transform(np.argmax(label , axis = 1))[0])\n",
        "plt.imshow((image[0].numpy()/255).reshape(96 , 96 , 3))"
      ],
      "execution_count": 15,
      "outputs": [
        {
          "output_type": "stream",
          "name": "stdout",
          "text": [
            "surprise\n"
          ]
        },
        {
          "output_type": "execute_result",
          "data": {
            "text/plain": [
              "<matplotlib.image.AxesImage at 0x7f17664d1030>"
            ]
          },
          "metadata": {},
          "execution_count": 15
        },
        {
          "output_type": "display_data",
          "data": {
            "text/plain": [
              "<Figure size 640x480 with 1 Axes>"
            ],
            "image/png": "[encoded data removed]"
          },
          "metadata": {}
        }
      ]
    },
    {
      "cell_type": "code",
      "metadata": {
        "id": "Xi9IJStcoc6M",
        "colab": {
          "base_uri": "https://localhost:8080/"
        },
        "outputId": "a9dce030-f9a4-451b-8683-391ea2fe8cef"
      },
      "source": [
        "%time val_dataset = get_dataset(Val_paths , Val_labels , train = False)\n",
        "\n",
        "image , label = next(iter(val_dataset))\n",
        "print(image.shape)\n",
        "print(label.shape)"
      ],
      "execution_count": 16,
      "outputs": [
        {
          "output_type": "stream",
          "name": "stdout",
          "text": [
            "CPU times: user 27 ms, sys: 201 µs, total: 27.2 ms\n",
            "Wall time: 29 ms\n",
            "(32, 96, 96, 3)\n",
            "(32, 7)\n"
          ]
        }
      ]
    },
    {
      "cell_type": "code",
      "metadata": {
        "id": "b_gqj-vjvErp",
        "colab": {
          "base_uri": "https://localhost:8080/",
          "height": 468
        },
        "outputId": "15ace72d-4ea7-4c76-80db-ac6157c4c97c"
      },
      "source": [
        "# View a sample Validation Image\n",
        "print(Le.inverse_transform(np.argmax(label , axis = 1))[0])\n",
        "plt.imshow((image[0].numpy()/255).reshape(96 , 96 , 3))"
      ],
      "execution_count": 17,
      "outputs": [
        {
          "output_type": "stream",
          "name": "stdout",
          "text": [
            "happy\n"
          ]
        },
        {
          "output_type": "execute_result",
          "data": {
            "text/plain": [
              "<matplotlib.image.AxesImage at 0x7f175819c250>"
            ]
          },
          "metadata": {},
          "execution_count": 17
        },
        {
          "output_type": "display_data",
          "data": {
            "text/plain": [
              "<Figure size 640x480 with 1 Axes>"
            ],
            "image/png": "[encoded data removed]"
          },
          "metadata": {}
        }
      ]
    },
    {
      "cell_type": "code",
      "metadata": {
        "colab": {
          "base_uri": "https://localhost:8080/"
        },
        "id": "9e32BWRjUuV6",
        "outputId": "f11ba09d-70d7-4382-921b-c5423fd90117"
      },
      "source": [
        "# Building EfficientNet model\n",
        "from tensorflow.keras.applications import EfficientNetB2\n",
        "\n",
        "backbone = EfficientNetB2(\n",
        "    input_shape=(96, 96, 3),\n",
        "    include_top=False\n",
        ")\n",
        "\n",
        "model = tf.keras.Sequential([\n",
        "    backbone,\n",
        "    tf.keras.layers.GlobalAveragePooling2D(),\n",
        "    tf.keras.layers.Dropout(0.3),\n",
        "    tf.keras.layers.Dense(128, activation='relu'),\n",
        "    tf.keras.layers.Dense(7, activation='softmax')\n",
        "])\n",
        "\n",
        "model.summary()"
      ],
      "execution_count": 18,
      "outputs": [
        {
          "output_type": "stream",
          "name": "stdout",
          "text": [
            "Downloading data from https://storage.googleapis.com/keras-applications/efficientnetb2_notop.h5\n",
            "31790344/31790344 [==============================] - 3s 0us/step\n",
            "Model: \"sequential_2\"\n",
            "_________________________________________________________________\n",
            " Layer (type)                Output Shape              Param #   \n",
            "=================================================================\n",
            " efficientnetb2 (Functional)  (None, 3, 3, 1408)       7768569   \n",
            "                                                                 \n",
            " global_average_pooling2d (G  (None, 1408)             0         \n",
            " lobalAveragePooling2D)                                          \n",
            "                                                                 \n",
            " dropout (Dropout)           (None, 1408)              0         \n",
            "                                                                 \n",
            " dense (Dense)               (None, 128)               180352    \n",
            "                                                                 \n",
            " dense_1 (Dense)             (None, 7)                 903       \n",
            "                                                                 \n",
            "=================================================================\n",
            "Total params: 7,949,824\n",
            "Trainable params: 7,882,249\n",
            "Non-trainable params: 67,575\n",
            "_________________________________________________________________\n"
          ]
        }
      ]
    },
    {
      "cell_type": "code",
      "metadata": {
        "id": "crnP0rolUy0O"
      },
      "source": [
        "# Compiling your model by providing the Optimizer , Loss and Metrics\n",
        "model.compile(\n",
        "    optimizer=tf.keras.optimizers.Adam(learning_rate=0.001, beta_1=0.9, beta_2=0.999, epsilon=1e-07),\n",
        "    loss = 'categorical_crossentropy',\n",
        "    metrics=['accuracy' , tf.keras.metrics.Precision(name='precision'),tf.keras.metrics.Recall(name='recall')]\n",
        ")"
      ],
      "execution_count": 19,
      "outputs": []
    },
    {
      "cell_type": "code",
      "metadata": {
        "id": "bATVPoL4xtyJ",
        "colab": {
          "base_uri": "https://localhost:8080/"
        },
        "outputId": "42717009-e00b-492d-dea2-0b33c1ef0ee1"
      },
      "source": [
        "# Train the model\n",
        "history = model.fit(\n",
        "    train_dataset,\n",
        "    steps_per_epoch=len(Train_paths)//BATCH_SIZE,\n",
        "    epochs=12,\n",
        "    validation_data=val_dataset,\n",
        "    validation_steps = len(Val_paths)//BATCH_SIZE,\n",
        "    class_weight=class_weight\n",
        ")"
      ],
      "execution_count": 20,
      "outputs": [
        {
          "output_type": "stream",
          "name": "stdout",
          "text": [
            "Epoch 1/12\n",
            "672/672 [==============================] - 164s 132ms/step - loss: 2.8260 - accuracy: 0.3926 - precision: 0.6390 - recall: 0.1766 - val_loss: 1.3962 - val_accuracy: 0.4837 - val_precision: 0.5939 - val_recall: 0.3599\n",
            "Epoch 2/12\n",
            "672/672 [==============================] - 81s 120ms/step - loss: 2.3781 - accuracy: 0.4923 - precision: 0.6922 - recall: 0.2821 - val_loss: 1.2750 - val_accuracy: 0.5230 - val_precision: 0.7090 - val_recall: 0.3580\n",
            "Epoch 3/12\n",
            "672/672 [==============================] - 81s 121ms/step - loss: 2.2339 - accuracy: 0.5236 - precision: 0.7038 - recall: 0.3271 - val_loss: 1.2796 - val_accuracy: 0.5181 - val_precision: 0.6581 - val_recall: 0.3583\n",
            "Epoch 4/12\n",
            "672/672 [==============================] - 81s 120ms/step - loss: 2.1253 - accuracy: 0.5417 - precision: 0.7152 - recall: 0.3542 - val_loss: 1.1414 - val_accuracy: 0.5751 - val_precision: 0.7363 - val_recall: 0.3951\n",
            "Epoch 5/12\n",
            "672/672 [==============================] - 81s 120ms/step - loss: 2.0182 - accuracy: 0.5604 - precision: 0.7165 - recall: 0.3843 - val_loss: 1.1526 - val_accuracy: 0.5742 - val_precision: 0.7208 - val_recall: 0.4074\n",
            "Epoch 6/12\n",
            "672/672 [==============================] - 81s 121ms/step - loss: 1.9712 - accuracy: 0.5670 - precision: 0.7179 - recall: 0.3972 - val_loss: 1.0821 - val_accuracy: 0.6046 - val_precision: 0.7171 - val_recall: 0.4746\n",
            "Epoch 7/12\n",
            "672/672 [==============================] - 81s 120ms/step - loss: 1.9052 - accuracy: 0.5804 - precision: 0.7224 - recall: 0.4185 - val_loss: 1.1266 - val_accuracy: 0.5804 - val_precision: 0.7073 - val_recall: 0.4446\n",
            "Epoch 8/12\n",
            "672/672 [==============================] - 86s 127ms/step - loss: 1.8531 - accuracy: 0.5911 - precision: 0.7265 - recall: 0.4373 - val_loss: 1.3644 - val_accuracy: 0.5153 - val_precision: 0.6192 - val_recall: 0.3655\n",
            "Epoch 9/12\n",
            "672/672 [==============================] - 88s 130ms/step - loss: 1.8096 - accuracy: 0.6017 - precision: 0.7307 - recall: 0.4486 - val_loss: 1.0758 - val_accuracy: 0.6039 - val_precision: 0.7210 - val_recall: 0.4675\n",
            "Epoch 10/12\n",
            "672/672 [==============================] - 80s 119ms/step - loss: 1.7931 - accuracy: 0.6070 - precision: 0.7368 - recall: 0.4599 - val_loss: 1.1918 - val_accuracy: 0.5714 - val_precision: 0.6642 - val_recall: 0.4619\n",
            "Epoch 11/12\n",
            "672/672 [==============================] - 85s 126ms/step - loss: 1.6891 - accuracy: 0.6221 - precision: 0.7465 - recall: 0.4863 - val_loss: 1.0875 - val_accuracy: 0.6032 - val_precision: 0.7210 - val_recall: 0.4780\n",
            "Epoch 12/12\n",
            "672/672 [==============================] - 85s 127ms/step - loss: 1.6664 - accuracy: 0.6249 - precision: 0.7462 - recall: 0.4878 - val_loss: 1.0158 - val_accuracy: 0.6230 - val_precision: 0.7182 - val_recall: 0.5152\n"
          ]
        }
      ]
    },
    {
      "cell_type": "code",
      "metadata": {
        "id": "28vylx4DyDBS"
      },
      "source": [
        "model.layers[0].trainable = False"
      ],
      "execution_count": 21,
      "outputs": []
    },
    {
      "cell_type": "code",
      "metadata": {
        "id": "U8r6G0RVU3c2"
      },
      "source": [
        "# Defining our callbacks\n",
        "checkpoint = tf.keras.callbacks.ModelCheckpoint(\"best_weights.h5\",verbose=1,save_best_only=True,save_weights_only = True)\n",
        "early_stop = tf.keras.callbacks.EarlyStopping(patience=4)"
      ],
      "execution_count": 22,
      "outputs": []
    },
    {
      "cell_type": "code",
      "metadata": {
        "colab": {
          "base_uri": "https://localhost:8080/"
        },
        "id": "Gn0a29MW0s5c",
        "outputId": "b0655a66-a880-4edf-f3f9-583e0e00f386"
      },
      "source": [
        "model.summary()"
      ],
      "execution_count": 23,
      "outputs": [
        {
          "output_type": "stream",
          "name": "stdout",
          "text": [
            "Model: \"sequential_2\"\n",
            "_________________________________________________________________\n",
            " Layer (type)                Output Shape              Param #   \n",
            "=================================================================\n",
            " efficientnetb2 (Functional)  (None, 3, 3, 1408)       7768569   \n",
            "                                                                 \n",
            " global_average_pooling2d (G  (None, 1408)             0         \n",
            " lobalAveragePooling2D)                                          \n",
            "                                                                 \n",
            " dropout (Dropout)           (None, 1408)              0         \n",
            "                                                                 \n",
            " dense (Dense)               (None, 128)               180352    \n",
            "                                                                 \n",
            " dense_1 (Dense)             (None, 7)                 903       \n",
            "                                                                 \n",
            "=================================================================\n",
            "Total params: 7,949,824\n",
            "Trainable params: 181,255\n",
            "Non-trainable params: 7,768,569\n",
            "_________________________________________________________________\n"
          ]
        }
      ]
    },
    {
      "cell_type": "code",
      "metadata": {
        "id": "1IeOU2kKU5OT",
        "colab": {
          "base_uri": "https://localhost:8080/"
        },
        "outputId": "c5a9c8f2-d954-495a-8e8e-a8ff3201a96a"
      },
      "source": [
        "# Train the model\n",
        "history = model.fit(\n",
        "    train_dataset,\n",
        "    steps_per_epoch=len(Train_paths)//BATCH_SIZE,\n",
        "    epochs=8,\n",
        "    callbacks=[checkpoint , early_stop],\n",
        "    validation_data=val_dataset,\n",
        "    validation_steps = len(Val_paths)//BATCH_SIZE,\n",
        "    class_weight=class_weight\n",
        ")"
      ],
      "execution_count": 24,
      "outputs": [
        {
          "output_type": "stream",
          "name": "stdout",
          "text": [
            "Epoch 1/8\n",
            "672/672 [==============================] - ETA: 0s - loss: 1.6227 - accuracy: 0.6368 - precision: 0.7525 - recall: 0.5058\n",
            "Epoch 1: val_loss improved from inf to 1.04068, saving model to best_weights.h5\n",
            "672/672 [==============================] - 92s 136ms/step - loss: 1.6227 - accuracy: 0.6368 - precision: 0.7525 - recall: 0.5058 - val_loss: 1.0407 - val_accuracy: 0.6191 - val_precision: 0.7066 - val_recall: 0.5312\n",
            "Epoch 2/8\n",
            "672/672 [==============================] - ETA: 0s - loss: 1.6231 - accuracy: 0.6361 - precision: 0.7493 - recall: 0.5046\n",
            "Epoch 2: val_loss did not improve from 1.04068\n",
            "672/672 [==============================] - 86s 127ms/step - loss: 1.6231 - accuracy: 0.6361 - precision: 0.7493 - recall: 0.5046 - val_loss: 1.0775 - val_accuracy: 0.6066 - val_precision: 0.7003 - val_recall: 0.5059\n",
            "Epoch 3/8\n",
            "672/672 [==============================] - ETA: 0s - loss: 1.5491 - accuracy: 0.6496 - precision: 0.7626 - recall: 0.5266\n",
            "Epoch 3: val_loss did not improve from 1.04068\n",
            "672/672 [==============================] - 81s 121ms/step - loss: 1.5491 - accuracy: 0.6496 - precision: 0.7626 - recall: 0.5266 - val_loss: 1.1223 - val_accuracy: 0.6020 - val_precision: 0.6722 - val_recall: 0.5216\n",
            "Epoch 4/8\n",
            "672/672 [==============================] - ETA: 0s - loss: 1.5298 - accuracy: 0.6524 - precision: 0.7551 - recall: 0.5311\n",
            "Epoch 4: val_loss did not improve from 1.04068\n",
            "672/672 [==============================] - 81s 120ms/step - loss: 1.5298 - accuracy: 0.6524 - precision: 0.7551 - recall: 0.5311 - val_loss: 1.1001 - val_accuracy: 0.6056 - val_precision: 0.6757 - val_recall: 0.5363\n",
            "Epoch 5/8\n",
            "672/672 [==============================] - ETA: 0s - loss: 1.5083 - accuracy: 0.6602 - precision: 0.7616 - recall: 0.5415\n",
            "Epoch 5: val_loss did not improve from 1.04068\n",
            "672/672 [==============================] - 81s 120ms/step - loss: 1.5083 - accuracy: 0.6602 - precision: 0.7616 - recall: 0.5415 - val_loss: 1.0700 - val_accuracy: 0.6154 - val_precision: 0.7165 - val_recall: 0.5064\n"
          ]
        }
      ]
    },
    {
      "cell_type": "markdown",
      "metadata": {
        "id": "vU6Sq7xag7t8"
      },
      "source": [
        "Testing Phase"
      ]
    },
    {
      "cell_type": "code",
      "metadata": {
        "id": "71WlFdcafnAc",
        "colab": {
          "base_uri": "https://localhost:8080/",
          "height": 269
        },
        "outputId": "e49dc41e-ab2b-4bb0-efaf-42f8f9e50f08"
      },
      "source": [
        "from tensorflow.keras.applications import EfficientNetB2\n",
        "\n",
        "backbone = EfficientNetB2(\n",
        "    input_shape=(96, 96, 3),\n",
        "    include_top=False\n",
        ")\n",
        "\n",
        "model = tf.keras.Sequential([\n",
        "    backbone,\n",
        "    tf.keras.layers.GlobalAveragePooling2D(),\n",
        "    tf.keras.layers.Dropout(0.3),\n",
        "    tf.keras.layers.Dense(128, activation='relu'),\n",
        "    tf.keras.layers.Dense(7, activation='softmax')\n",
        "])\n",
        "\n",
        "model.compile(\n",
        "    optimizer=tf.keras.optimizers.Adam(learning_rate=0.001, beta_1=0.9, beta_2=0.999, epsilon=1e-07),\n",
        "    loss = 'categorical_crossentropy',\n",
        "    metrics=['accuracy' , tf.keras.metrics.Precision(name='precision'),tf.keras.metrics.Recall(name='recall')]\n",
        ")"
      ],
      "execution_count": 2,
      "outputs": [
        {
          "output_type": "stream",
          "name": "stdout",
          "text": [
            "Downloading data from https://storage.googleapis.com/keras-applications/efficientnetb2_notop.h5\n",
            "31790344/31790344 [==============================] - 0s 0us/step\n"
          ]
        },
        {
          "output_type": "error",
          "ename": "NameError",
          "evalue": "ignored",
          "traceback": [
            "\u001b[0;31m---------------------------------------------------------------------------\u001b[0m",
            "\u001b[0;31mNameError\u001b[0m                                 Traceback (most recent call last)",
            "\u001b[0;32m<ipython-input-2-fffab2a0ba62>\u001b[0m in \u001b[0;36m<cell line: 8>\u001b[0;34m()\u001b[0m\n\u001b[1;32m      6\u001b[0m )\n\u001b[1;32m      7\u001b[0m \u001b[0;34m\u001b[0m\u001b[0m\n\u001b[0;32m----> 8\u001b[0;31m model = tf.keras.Sequential([\n\u001b[0m\u001b[1;32m      9\u001b[0m     \u001b[0mbackbone\u001b[0m\u001b[0;34m,\u001b[0m\u001b[0;34m\u001b[0m\u001b[0;34m\u001b[0m\u001b[0m\n\u001b[1;32m     10\u001b[0m     \u001b[0mtf\u001b[0m\u001b[0;34m.\u001b[0m\u001b[0mkeras\u001b[0m\u001b[0;34m.\u001b[0m\u001b[0mlayers\u001b[0m\u001b[0;34m.\u001b[0m\u001b[0mGlobalAveragePooling2D\u001b[0m\u001b[0;34m(\u001b[0m\u001b[0;34m)\u001b[0m\u001b[0;34m,\u001b[0m\u001b[0;34m\u001b[0m\u001b[0;34m\u001b[0m\u001b[0m\n",
            "\u001b[0;31mNameError\u001b[0m: name 'tf' is not defined"
          ]
        }
      ]
    },
    {
      "cell_type": "code",
      "metadata": {
        "id": "kh91u_fgyKyL"
      },
      "source": [
        "model.load_weights(\"best_weights.h5\")"
      ],
      "execution_count": 26,
      "outputs": []
    },
    {
      "cell_type": "code",
      "metadata": {
        "id": "zaIUk_NRVJVJ"
      },
      "source": [
        "# Create a Dataset Object for 'Testing' Set just the way we did for Training and Validation\n",
        "test_image_paths = list(test_path.glob(\"*/*\"))\n",
        "test_image_paths = list(map(lambda x : str(x) , test_image_paths))\n",
        "test_labels = list(map(lambda x : get_label(x) , test_image_paths))\n",
        "\n",
        "test_labels = Le.transform(test_labels)\n",
        "test_labels = tf.keras.utils.to_categorical(test_labels)\n",
        "\n",
        "test_image_paths = tf.convert_to_tensor(test_image_paths)\n",
        "test_labels = tf.convert_to_tensor(test_labels)\n",
        "\n",
        "def decode_image(image , label):\n",
        "    image = tf.io.read_file(image)\n",
        "    image = tf.io.decode_jpeg(image , channels = 3)\n",
        "    image = tf.image.resize(image , [96 , 96] , method=\"bilinear\")\n",
        "    return image , label\n",
        "\n",
        "test_dataset = (\n",
        "     tf.data.Dataset\n",
        "    .from_tensor_slices((test_image_paths, test_labels))\n",
        "    .map(decode_image)\n",
        "    .batch(BATCH_SIZE)\n",
        ")"
      ],
      "execution_count": 27,
      "outputs": []
    },
    {
      "cell_type": "code",
      "metadata": {
        "colab": {
          "base_uri": "https://localhost:8080/"
        },
        "id": "uBIDOhxee0My",
        "outputId": "0591f46a-214c-41f4-f225-34c7d5ab1921"
      },
      "source": [
        "# Verify Test Dataset Object\n",
        "image , label = next(iter(test_dataset))\n",
        "print(image.shape)\n",
        "print(label.shape)"
      ],
      "execution_count": 28,
      "outputs": [
        {
          "output_type": "stream",
          "name": "stdout",
          "text": [
            "(32, 96, 96, 3)\n",
            "(32, 7)\n"
          ]
        }
      ]
    },
    {
      "cell_type": "code",
      "metadata": {
        "colab": {
          "base_uri": "https://localhost:8080/",
          "height": 468
        },
        "id": "4ZGD3ogge2V-",
        "outputId": "bd47eba3-e412-4e36-bd0c-6b652e90627f"
      },
      "source": [
        "# View a sample Validation Image\n",
        "print(Le.inverse_transform(np.argmax(label , axis = 1))[0])\n",
        "plt.imshow((image[0].numpy()/255).reshape(96 , 96 , 3))"
      ],
      "execution_count": 29,
      "outputs": [
        {
          "output_type": "stream",
          "name": "stdout",
          "text": [
            "disgust\n"
          ]
        },
        {
          "output_type": "execute_result",
          "data": {
            "text/plain": [
              "<matplotlib.image.AxesImage at 0x7f16bf07a260>"
            ]
          },
          "metadata": {},
          "execution_count": 29
        },
        {
          "output_type": "display_data",
          "data": {
            "text/plain": [
              "<Figure size 640x480 with 1 Axes>"
            ],
            "image/png": "[encoded data removed]"
          },
          "metadata": {}
        }
      ]
    },
    {
      "cell_type": "code",
      "metadata": {
        "colab": {
          "base_uri": "https://localhost:8080/"
        },
        "id": "H8nmdlL5e4LB",
        "outputId": "c219288a-c61f-4e7e-9464-692335058362"
      },
      "source": [
        "# Evaluating the loaded model\n",
        "loss, acc, prec, rec = model.evaluate(test_dataset)\n",
        "\n",
        "print(\" Testing Acc : \" , acc)\n",
        "print(\" Testing Precision \" , prec)\n",
        "print(\" Testing Recall \" , rec)"
      ],
      "execution_count": 30,
      "outputs": [
        {
          "output_type": "stream",
          "name": "stdout",
          "text": [
            "225/225 [==============================] - 10s 25ms/step - loss: 1.0569 - accuracy: 0.6169 - precision: 0.7078 - recall: 0.5279\n",
            " Testing Acc :  0.6168849468231201\n",
            " Testing Precision  0.7078273892402649\n",
            " Testing Recall  0.5278629064559937\n"
          ]
        }
      ]
    },
    {
      "cell_type": "markdown",
      "metadata": {
        "id": "EvKEpP1yaX8u"
      },
      "source": [
        "Save Objects"
      ]
    },
    {
      "cell_type": "code",
      "metadata": {
        "id": "6FG-gDVcaZgN",
        "colab": {
          "base_uri": "https://localhost:8080/",
          "height": 182
        },
        "outputId": "d742600d-382a-4049-9668-4fdde97b3597"
      },
      "source": [
        "# Save Model\n",
        "model.save(\"FacialExpressionModel.h5\")"
      ],
      "execution_count": 1,
      "outputs": [
        {
          "output_type": "error",
          "ename": "NameError",
          "evalue": "ignored",
          "traceback": [
            "\u001b[0;31m---------------------------------------------------------------------------\u001b[0m",
            "\u001b[0;31mNameError\u001b[0m                                 Traceback (most recent call last)",
            "\u001b[0;32m<ipython-input-1-4f1896d9551a>\u001b[0m in \u001b[0;36m<cell line: 2>\u001b[0;34m()\u001b[0m\n\u001b[1;32m      1\u001b[0m \u001b[0;31m# Save Model\u001b[0m\u001b[0;34m\u001b[0m\u001b[0;34m\u001b[0m\u001b[0m\n\u001b[0;32m----> 2\u001b[0;31m \u001b[0mmodel\u001b[0m\u001b[0;34m.\u001b[0m\u001b[0msave\u001b[0m\u001b[0;34m(\u001b[0m\u001b[0;34m\"FacialExpressionModel.h5\"\u001b[0m\u001b[0;34m)\u001b[0m\u001b[0;34m\u001b[0m\u001b[0;34m\u001b[0m\u001b[0m\n\u001b[0m",
            "\u001b[0;31mNameError\u001b[0m: name 'model' is not defined"
          ]
        }
      ]
    },
    {
      "cell_type": "code",
      "metadata": {
        "id": "_anLO5GWadh1"
      },
      "source": [
        "# Save Label Encoder\n",
        "import pickle\n",
        "\n",
        "def save_object(obj , name):\n",
        "    pickle_obj = open(f\"{name}.pck\",\"wb\")\n",
        "    pickle.dump(obj, pickle_obj)\n",
        "    pickle_obj.close()"
      ],
      "execution_count": null,
      "outputs": []
    },
    {
      "cell_type": "code",
      "metadata": {
        "id": "5GiwShNva4Z4"
      },
      "source": [
        "save_object(Le, \"LabelEncoder\")"
      ],
      "execution_count": null,
      "outputs": []
    }
  ]
}